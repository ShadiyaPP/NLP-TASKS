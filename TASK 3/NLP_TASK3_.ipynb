{
 "cells": [
  {
   "cell_type": "code",
   "execution_count": 18,
   "id": "b7ce989d",
   "metadata": {},
   "outputs": [],
   "source": [
    "#Import necessary libraries\n",
    "import re\n",
    "import nltk\n",
    "from nltk.corpus import stopwords\n",
    "from pdfminer.high_level import extract_text\n",
    "from nltk.tokenize import word_tokenize"
   ]
  },
  {
   "cell_type": "code",
   "execution_count": 3,
   "id": "1620d219",
   "metadata": {},
   "outputs": [],
   "source": [
    "#function to read data from the path of the file\n",
    "def text_extractor(file_path):\n",
    "    data = extract_text(file_path)\n",
    "    return data"
   ]
  },
  {
   "cell_type": "code",
   "execution_count": 4,
   "id": "e13266ee",
   "metadata": {},
   "outputs": [],
   "source": [
    "#Function to do the basic cleaning in extracted data\n",
    "def cleanResume(resumeText):\n",
    "    #to Convert all strings to lowercase\n",
    "    resumeText = resumeText.lower()\n",
    "    # Remove numbers\n",
    "    resumeText = re.sub(r'\\d+','',resumeText)\n",
    "    #to remove the new line command\n",
    "    resumeText = re.sub(r'\\n',' ',resumeText)\n",
    "    return resumeText"
   ]
  },
  {
   "cell_type": "code",
   "execution_count": 5,
   "id": "978a08a3",
   "metadata": {},
   "outputs": [],
   "source": [
    "#Defining the skill set\n",
    "SKILL_SET = ['data science','machine learning','python','sql','pandas','git','scikit-learn','matplotlib','nlp'\n",
    "            'mongodb','numpy','statistical analysis']"
   ]
  },
  {
   "cell_type": "code",
   "execution_count": 16,
   "id": "01650c13",
   "metadata": {},
   "outputs": [],
   "source": [
    "def skill_extraction(data):\n",
    "    #importing the stopwords\n",
    "    stop_words = stopwords.words('english')\n",
    "    \n",
    "    #tokenizing the text data\n",
    "    word_tokens = word_tokenize(data)\n",
    "    \n",
    "    #remove the stop words in the tokens\n",
    "    filtered_tokens = [i for i in word_tokens if i not in stop_words]\n",
    "    \n",
    "    #remove the punctuation in the tokens\n",
    "    filtered_tokens = [i for i in word_tokens if i.isalpha()]\n",
    "    \n",
    "    #generate bigrams and trigrams (such as artificial intelligence)\n",
    "    bigrams_trigrams = list(map(' '.join, nltk.everygrams(filtered_tokens, 2, 3)))\n",
    "    \n",
    "    #create a set to keep the results in.\n",
    "    found_skills = set()\n",
    "    \n",
    "    #search for each token in our skills database\n",
    "    for token in filtered_tokens:\n",
    "        if token in SKILL_SET:\n",
    "            found_skills.add(token)\n",
    "        \n",
    "    #search for each bigram and trigram in our skills database\n",
    "    for ngram in bigrams_trigrams:\n",
    "        if ngram in SKILL_SET:\n",
    "            found_skills.add(ngram)\n",
    "        \n",
    "    return found_skills\n",
    "        \n",
    "    "
   ]
  },
  {
   "cell_type": "code",
   "execution_count": 10,
   "id": "d57e0dd4",
   "metadata": {},
   "outputs": [
    {
     "name": "stdout",
     "output_type": "stream",
     "text": [
      "Enter the path of the file: C:\\\\Users\\\\Shadiya\\\\Desktop\\\\NLP_TASK\\\\ShadiyaPP.pdf\n"
     ]
    }
   ],
   "source": [
    "#Read the path of the file from user\n",
    "file_path = input('Enter the path of the file: ')"
   ]
  },
  {
   "cell_type": "code",
   "execution_count": 11,
   "id": "dc38c1ad",
   "metadata": {},
   "outputs": [],
   "source": [
    "data = text_extractor(file_path)"
   ]
  },
  {
   "cell_type": "code",
   "execution_count": 12,
   "id": "8b2aee4c",
   "metadata": {},
   "outputs": [],
   "source": [
    "data = cleanResume(data)"
   ]
  },
  {
   "cell_type": "code",
   "execution_count": 19,
   "id": "227c5c01",
   "metadata": {},
   "outputs": [],
   "source": [
    "found_skills=skill_extraction(data)"
   ]
  },
  {
   "cell_type": "code",
   "execution_count": 20,
   "id": "c2060d4b",
   "metadata": {},
   "outputs": [
    {
     "name": "stdout",
     "output_type": "stream",
     "text": [
      "---------------------------------------------------\n",
      "The matching Skills of the candidate are as follows\n",
      "---------------------------------------------------\n",
      "pandas\n",
      "numpy\n",
      "python\n",
      "matplotlib\n",
      "machine learning\n",
      "data science\n",
      "git\n",
      "sql\n"
     ]
    }
   ],
   "source": [
    "print(\"---------------------------------------------------\")\n",
    "print(\"The matching Skills of the candidate are as follows\")\n",
    "print(\"---------------------------------------------------\")\n",
    "for i in found_skills:\n",
    "    print(i)"
   ]
  }
 ],
 "metadata": {
  "kernelspec": {
   "display_name": "Python 3 (ipykernel)",
   "language": "python",
   "name": "python3"
  },
  "language_info": {
   "codemirror_mode": {
    "name": "ipython",
    "version": 3
   },
   "file_extension": ".py",
   "mimetype": "text/x-python",
   "name": "python",
   "nbconvert_exporter": "python",
   "pygments_lexer": "ipython3",
   "version": "3.10.5"
  }
 },
 "nbformat": 4,
 "nbformat_minor": 5
}
