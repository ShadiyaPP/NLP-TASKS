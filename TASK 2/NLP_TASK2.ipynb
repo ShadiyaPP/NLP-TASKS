{
 "cells": [
  {
   "cell_type": "code",
   "execution_count": 1,
   "id": "35f18822",
   "metadata": {},
   "outputs": [],
   "source": [
    "#importing necessary libraries\n",
    "import pandas as pd\n",
    "from nltk.tokenize import word_tokenize\n",
    "from nltk.tokenize import RegexpTokenizer\n",
    "from textblob import TextBlob"
   ]
  },
  {
   "cell_type": "code",
   "execution_count": 2,
   "id": "5b56753c",
   "metadata": {},
   "outputs": [],
   "source": [
    "#Function for tokenization\n",
    "def get_tokens(text):\n",
    "    tokenizer = RegexpTokenizer(r'\\w+')\n",
    "    tokens = tokenizer.tokenize(text)\n",
    "    return tokens"
   ]
  },
  {
   "cell_type": "code",
   "execution_count": 3,
   "id": "7b8cb63e",
   "metadata": {},
   "outputs": [],
   "source": [
    "#Function for spelling correction\n",
    "def spelling_correction(tokens):\n",
    "    correct_spelling_token =[]\n",
    "    for token in tokens:\n",
    "        textblob=TextBlob(token)\n",
    "        correct_spelling_token.append(str(textblob.correct()))\n",
    "    return correct_spelling_token"
   ]
  },
  {
   "cell_type": "code",
   "execution_count": 4,
   "id": "b7e9c7b1",
   "metadata": {},
   "outputs": [
    {
     "name": "stdout",
     "output_type": "stream",
     "text": [
      "started\n",
      "\n",
      "everyy\n",
      "\n",
      "verry\n",
      "\n",
      "mucch\n",
      "\n",
      "she is a baeutiful girl.\n",
      "\n",
      "That is her menager.\n",
      "\n",
      "wellcome to my hous.\n",
      "\n",
      "Excited.\n",
      "\n",
      "It's a good thing that Fred recieved the package before he left on his trip.\n",
      "\n",
      "There is a speling mistake.\n",
      "\n",
      "It is unkown if it was becuse of contractal obligatins, or simply a spelling misteke.\n",
      "\n",
      "She owes her neme to a spelling mistake.\n",
      "\n",
      "apparant\n",
      "\n",
      "beleive\n",
      "\n",
      "entrepenur\n",
      "\n",
      "lisense\n",
      "\n",
      "privelege \n",
      "\n",
      "pronounciation \n",
      "\n",
      "seprate\n",
      "\n",
      "tendancy\n",
      "\n",
      "waether\n",
      "\n",
      "wierd\n",
      "\n",
      "He started to reed a book.\n",
      "\n",
      "There is no more coffe.\n",
      "\n",
      "Even after years of education, there are some things that some peple still mess.\n",
      "\n",
      "This one tends to confuse even the best of writars.\n",
      "\n",
      "Best selers.\n",
      "\n",
      "The most heted article.\n",
      "\n",
      "Back sortted.\n",
      "\n",
      "My brother had retarned from Bombay yasterday.\n",
      "\n",
      "He asked me to complte the work.\n",
      "\n",
      "The book is full of valuble informetion.\n",
      "\n",
      "The teecher asked the boy \"why do you coming late everyday.\"?\n",
      "\n",
      "You presed your hand on my pained shoulder.\n",
      "\n",
      "She used to go to cherch regularly.\n",
      "\n",
      "I prefer reading to writting.\n",
      "\n",
      "Pramod is the taler of the two boys.\n",
      "\n",
      "Diviede the money among the five of you.\n",
      "\n",
      "Baseball is a very popullar game in America.\n",
      "\n",
      "He has been ille since last Friday.\n",
      "\n",
      "He drov very fast.\n",
      "\n",
      "My brother told his friend that he has won fierst prize.\n",
      "\n",
      "There was a facttory beside the school.\n",
      "\n",
      "Please introduc me to your frinds.\n",
      "\n",
      "One of the boys has scered good marks.\n",
      "\n",
      "We came to a place where the road brancched into two lanes.\n",
      "\n",
      "We discused the matter from an educational point of view.\n",
      "\n",
      "We enjoyed waching the fireworks on a bridge last summer.\n",
      "\n",
      "We have to do something to stop this from hapening again.\n",
      "\n",
      "We have to lern all the songs before the end of the week.\n",
      "\n",
      "We learned about the importence of eating a healthy lunch.\n",
      "\n",
      "We need to burn all this steff before the police get here.\n",
      "\n",
      "We need to think about what'll hapen if we don't do that.\n",
      "\n",
      "We should concider the problem from a child's perspective.\n",
      "\n",
      "We spend pieles of money on the things we don't really use.\n",
      "\n",
      "We took refege in a cave and waited for the storm to pass.\n",
      "\n",
      "We won't have enouggh time to do that before Tom gets here.\n",
      "\n",
      "We're going to inviete Tom and Mary to our Halloween party.\n",
      "\n"
     ]
    }
   ],
   "source": [
    "#Reading data from the file\n",
    "file1 = open('DATASET.txt', 'r')  \n",
    "Lines = file1.readlines()\n",
    "for line in Lines:\n",
    "    print(line)"
   ]
  },
  {
   "cell_type": "code",
   "execution_count": 5,
   "id": "4a979103",
   "metadata": {},
   "outputs": [
    {
     "name": "stdout",
     "output_type": "stream",
     "text": [
      "[['started'], ['everyy'], ['verry'], ['mucch'], ['she', 'is', 'a', 'baeutiful', 'girl'], ['That', 'is', 'her', 'menager'], ['wellcome', 'to', 'my', 'hous'], ['Excited'], ['It', 's', 'a', 'good', 'thing', 'that', 'Fred', 'recieved', 'the', 'package', 'before', 'he', 'left', 'on', 'his', 'trip'], ['There', 'is', 'a', 'speling', 'mistake'], ['It', 'is', 'unkown', 'if', 'it', 'was', 'becuse', 'of', 'contractal', 'obligatins', 'or', 'simply', 'a', 'spelling', 'misteke'], ['She', 'owes', 'her', 'neme', 'to', 'a', 'spelling', 'mistake'], ['apparant'], ['beleive'], ['entrepenur'], ['lisense'], ['privelege'], ['pronounciation'], ['seprate'], ['tendancy'], ['waether'], ['wierd'], ['He', 'started', 'to', 'reed', 'a', 'book'], ['There', 'is', 'no', 'more', 'coffe'], ['Even', 'after', 'years', 'of', 'education', 'there', 'are', 'some', 'things', 'that', 'some', 'peple', 'still', 'mess'], ['This', 'one', 'tends', 'to', 'confuse', 'even', 'the', 'best', 'of', 'writars'], ['Best', 'selers'], ['The', 'most', 'heted', 'article'], ['Back', 'sortted'], ['My', 'brother', 'had', 'retarned', 'from', 'Bombay', 'yasterday'], ['He', 'asked', 'me', 'to', 'complte', 'the', 'work'], ['The', 'book', 'is', 'full', 'of', 'valuble', 'informetion'], ['The', 'teecher', 'asked', 'the', 'boy', 'why', 'do', 'you', 'coming', 'late', 'everyday'], ['You', 'presed', 'your', 'hand', 'on', 'my', 'pained', 'shoulder'], ['She', 'used', 'to', 'go', 'to', 'cherch', 'regularly'], ['I', 'prefer', 'reading', 'to', 'writting'], ['Pramod', 'is', 'the', 'taler', 'of', 'the', 'two', 'boys'], ['Diviede', 'the', 'money', 'among', 'the', 'five', 'of', 'you'], ['Baseball', 'is', 'a', 'very', 'popullar', 'game', 'in', 'America'], ['He', 'has', 'been', 'ille', 'since', 'last', 'Friday'], ['He', 'drov', 'very', 'fast'], ['My', 'brother', 'told', 'his', 'friend', 'that', 'he', 'has', 'won', 'fierst', 'prize'], ['There', 'was', 'a', 'facttory', 'beside', 'the', 'school'], ['Please', 'introduc', 'me', 'to', 'your', 'frinds'], ['One', 'of', 'the', 'boys', 'has', 'scered', 'good', 'marks'], ['We', 'came', 'to', 'a', 'place', 'where', 'the', 'road', 'brancched', 'into', 'two', 'lanes'], ['We', 'discused', 'the', 'matter', 'from', 'an', 'educational', 'point', 'of', 'view'], ['We', 'enjoyed', 'waching', 'the', 'fireworks', 'on', 'a', 'bridge', 'last', 'summer'], ['We', 'have', 'to', 'do', 'something', 'to', 'stop', 'this', 'from', 'hapening', 'again'], ['We', 'have', 'to', 'lern', 'all', 'the', 'songs', 'before', 'the', 'end', 'of', 'the', 'week'], ['We', 'learned', 'about', 'the', 'importence', 'of', 'eating', 'a', 'healthy', 'lunch'], ['We', 'need', 'to', 'burn', 'all', 'this', 'steff', 'before', 'the', 'police', 'get', 'here'], ['We', 'need', 'to', 'think', 'about', 'what', 'll', 'hapen', 'if', 'we', 'don', 't', 'do', 'that'], ['We', 'should', 'concider', 'the', 'problem', 'from', 'a', 'child', 's', 'perspective'], ['We', 'spend', 'pieles', 'of', 'money', 'on', 'the', 'things', 'we', 'don', 't', 'really', 'use'], ['We', 'took', 'refege', 'in', 'a', 'cave', 'and', 'waited', 'for', 'the', 'storm', 'to', 'pass'], ['We', 'won', 't', 'have', 'enouggh', 'time', 'to', 'do', 'that', 'before', 'Tom', 'gets', 'here'], ['We', 're', 'going', 'to', 'inviete', 'Tom', 'and', 'Mary', 'to', 'our', 'Halloween', 'party']]\n"
     ]
    }
   ],
   "source": [
    "#Tokenization of data\n",
    "tokens = []\n",
    "for line in Lines:\n",
    "    token = get_tokens(line)\n",
    "    tokens.append(token)\n",
    "print(tokens)"
   ]
  },
  {
   "cell_type": "code",
   "execution_count": 6,
   "id": "c797fee0",
   "metadata": {},
   "outputs": [],
   "source": [
    "#Spelling correction\n",
    "correct_spell = []\n",
    "for i in tokens:\n",
    "    token = spelling_correction(i)\n",
    "    correct_spell.append(token)"
   ]
  },
  {
   "cell_type": "code",
   "execution_count": 7,
   "id": "6a0dd17d",
   "metadata": {},
   "outputs": [
    {
     "name": "stdout",
     "output_type": "stream",
     "text": [
      "started\n",
      "every\n",
      "very\n",
      "much\n",
      "she is a beautiful girl\n",
      "That is her manager\n",
      "welcome to my house\n",
      "Excited\n",
      "It s a good thing that Red received the package before he left on his trip\n",
      "There is a spelling mistake\n",
      "It is unknown if it was because of contractual obligations or simply a spelling mistake\n",
      "The owes her name to a spelling mistake\n",
      "apparent\n",
      "believe\n",
      "entrepenur\n",
      "license\n",
      "privilege\n",
      "pronunciation\n",
      "separate\n",
      "tendency\n",
      "whether\n",
      "wired\n",
      "He started to reed a book\n",
      "There is no more coffee\n",
      "Even after years of education there are some things that some people still mess\n",
      "His one tends to confuse even the best of writers\n",
      "West seers\n",
      "The most hated article\n",
      "Back sorted\n",
      "By brother had returned from Bombay yesterday\n",
      "He asked me to complete the work\n",
      "The book is full of valuable information\n",
      "The teacher asked the boy why do you coming late everyday\n",
      "You pressed your hand on my pained shoulder\n",
      "The used to go to church regularly\n",
      "I prefer reading to writing\n",
      "Framed is the tale of the two boys\n",
      "Divide the money among the five of you\n",
      "Baseball is a very popular game in America\n",
      "He has been ill since last Friday\n",
      "He drove very fast\n",
      "By brother told his friend that he has won first prize\n",
      "There was a factory beside the school\n",
      "Please introduce me to your friends\n",
      "One of the boys has scared good marks\n",
      "He came to a place where the road branched into two lanes\n",
      "He discussed the matter from an educational point of view\n",
      "He enjoyed watching the fireworks on a bridge last summer\n",
      "He have to do something to stop this from happening again\n",
      "He have to learn all the songs before the end of the week\n",
      "He learned about the importance of eating a healthy lunch\n",
      "He need to burn all this staff before the police get here\n",
      "He need to think about what ll happen if we don t do that\n",
      "He should consider the problem from a child s perspective\n",
      "He spend pieces of money on the things we don t really use\n",
      "He took refuge in a cave and waited for the storm to pass\n",
      "He won t have enough time to do that before Tom gets here\n",
      "He re going to invite Tom and Mary to our Halloween party\n"
     ]
    }
   ],
   "source": [
    "#Spelling corrected data\n",
    "list = []\n",
    "for i in correct_spell:\n",
    "    a = ' '.join(i)\n",
    "    print(a)"
   ]
  },
  {
   "cell_type": "code",
   "execution_count": 8,
   "id": "26b691a8",
   "metadata": {},
   "outputs": [],
   "source": [
    "def spell_check(data):\n",
    "    tokens = get_tokens(data)\n",
    "    tokens = spelling_correction(tokens)\n",
    "    text = ' '.join(tokens)\n",
    "    return text"
   ]
  },
  {
   "cell_type": "code",
   "execution_count": 15,
   "id": "06746304",
   "metadata": {},
   "outputs": [
    {
     "name": "stdout",
     "output_type": "stream",
     "text": [
      "Enter text here for correction: Andrew loved reading espeshally before bedtime.\n",
      "Corrected Sentence:  Andrew loved reading especially before bedtime\n"
     ]
    }
   ],
   "source": [
    "#Taking input from the user and correcting\n",
    "data = input('Enter text here for correction: ')\n",
    "tokens = get_tokens(data)\n",
    "tokens = spelling_correction(tokens)\n",
    "text = ' '.join(tokens)\n",
    "print('Corrected Sentence: ',text)\n"
   ]
  }
 ],
 "metadata": {
  "kernelspec": {
   "display_name": "Python 3 (ipykernel)",
   "language": "python",
   "name": "python3"
  },
  "language_info": {
   "codemirror_mode": {
    "name": "ipython",
    "version": 3
   },
   "file_extension": ".py",
   "mimetype": "text/x-python",
   "name": "python",
   "nbconvert_exporter": "python",
   "pygments_lexer": "ipython3",
   "version": "3.10.5"
  }
 },
 "nbformat": 4,
 "nbformat_minor": 5
}
